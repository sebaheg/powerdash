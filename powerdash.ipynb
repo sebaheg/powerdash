{
 "cells": [
  {
   "cell_type": "code",
   "execution_count": 1,
   "metadata": {},
   "outputs": [],
   "source": [
    "import requests\n",
    "import pandas as pd\n",
    "import matplotlib\n",
    "import plotly.express as px"
   ]
  },
  {
   "cell_type": "code",
   "execution_count": 62,
   "metadata": {},
   "outputs": [],
   "source": [
    "API_Key = 'A05Bru6X2w08Us4SI3Et2tN4SP9ZebZJ7B8OYfXhMrr'"
   ]
  },
  {
   "cell_type": "code",
   "execution_count": 24,
   "metadata": {},
   "outputs": [],
   "source": [
    "from datetime import datetime, timedelta\n",
    "end_date = datetime.now().strftime('%Y-%m-%d %H:%M:%S')\n",
    "start_date = (datetime.now()-timedelta(days=10)).strftime('%Y-%m-%d %H:%M:%S')"
   ]
  },
  {
   "cell_type": "code",
   "execution_count": 60,
   "metadata": {},
   "outputs": [],
   "source": [
    "def get_production_data(zone, variables, API_key): \n",
    "    headers = {'Authorization': API_Key}\n",
    "    params = {'start-date': start_date, 'end-date': end_date}\n",
    "    url = 'https://api.rebase.energy/energy/production/{0}/'.format(zone)\n",
    "\n",
    "    response = requests.get(url, headers=headers, params=params)\n",
    "    result = response.json()\n",
    "\n",
    "    data = {variable: [] for variable in variables}\n",
    "    time_stamp = []\n",
    "    for record in result['records']:\n",
    "        for variable in variables: \n",
    "            data[variable].append(record['production'][variable])\n",
    "        time_stamp.append(record['timestamp'])\n",
    "\n",
    "    df = pd.DataFrame(index=time_stamp, data=data)\n",
    "    df.index = pd.to_datetime(df.index)\n",
    "\n",
    "    return df"
   ]
  },
  {
   "cell_type": "code",
   "execution_count": 64,
   "metadata": {},
   "outputs": [
    {
     "ename": "NameError",
     "evalue": "name 'API_key' is not defined",
     "output_type": "error",
     "traceback": [
      "\u001b[0;31m---------------------------------------------------------------------------\u001b[0m",
      "\u001b[0;31mNameError\u001b[0m                                 Traceback (most recent call last)",
      "Cell \u001b[0;32mIn[64], line 2\u001b[0m\n\u001b[1;32m      1\u001b[0m API_Key \u001b[39m=\u001b[39m \u001b[39m'\u001b[39m\u001b[39mA05Bru6X2w08Us4SI3Et2tN4SP9ZebZJ7B8OYfXhMrr\u001b[39m\u001b[39m'\u001b[39m\n\u001b[0;32m----> 2\u001b[0m get_production_data(\u001b[39m\"\u001b[39m\u001b[39mSE-SE3\u001b[39m\u001b[39m\"\u001b[39m, [\u001b[39m\"\u001b[39m\u001b[39mwind\u001b[39m\u001b[39m\"\u001b[39m, \u001b[39m\"\u001b[39m\u001b[39msolar\u001b[39m\u001b[39m\"\u001b[39m], API_key)\n",
      "\u001b[0;31mNameError\u001b[0m: name 'API_key' is not defined"
     ]
    }
   ],
   "source": [
    "API_key = 'A05Bru6X2w08Us4SI3Et2tN4SP9ZebZJ7B8OYfXhMrr'\n",
    "get_production_data(\"SE-SE3\", [\"wind\", \"solar\"], API_key)"
   ]
  },
  {
   "cell_type": "code",
   "execution_count": 55,
   "metadata": {},
   "outputs": [],
   "source": [
    "df = pd.DataFrame(index=time_stamp, data={'wind': data})\n",
    "df.index = pd.to_datetime(df.index)"
   ]
  },
  {
   "cell_type": "code",
   "execution_count": 56,
   "metadata": {},
   "outputs": [
    {
     "data": {
      "text/html": [
       "<div>\n",
       "<style scoped>\n",
       "    .dataframe tbody tr th:only-of-type {\n",
       "        vertical-align: middle;\n",
       "    }\n",
       "\n",
       "    .dataframe tbody tr th {\n",
       "        vertical-align: top;\n",
       "    }\n",
       "\n",
       "    .dataframe thead th {\n",
       "        text-align: right;\n",
       "    }\n",
       "</style>\n",
       "<table border=\"1\" class=\"dataframe\">\n",
       "  <thead>\n",
       "    <tr style=\"text-align: right;\">\n",
       "      <th></th>\n",
       "      <th>wind</th>\n",
       "    </tr>\n",
       "  </thead>\n",
       "  <tbody>\n",
       "    <tr>\n",
       "      <th>2023-08-23 16:00:00+00:00</th>\n",
       "      <td>212.0</td>\n",
       "    </tr>\n",
       "    <tr>\n",
       "      <th>2023-08-23 17:00:00+00:00</th>\n",
       "      <td>232.0</td>\n",
       "    </tr>\n",
       "    <tr>\n",
       "      <th>2023-08-23 18:00:00+00:00</th>\n",
       "      <td>219.0</td>\n",
       "    </tr>\n",
       "    <tr>\n",
       "      <th>2023-08-23 19:00:00+00:00</th>\n",
       "      <td>228.0</td>\n",
       "    </tr>\n",
       "    <tr>\n",
       "      <th>2023-08-23 20:00:00+00:00</th>\n",
       "      <td>232.0</td>\n",
       "    </tr>\n",
       "    <tr>\n",
       "      <th>...</th>\n",
       "      <td>...</td>\n",
       "    </tr>\n",
       "    <tr>\n",
       "      <th>2023-09-01 21:00:00+00:00</th>\n",
       "      <td>566.0</td>\n",
       "    </tr>\n",
       "    <tr>\n",
       "      <th>2023-09-01 22:00:00+00:00</th>\n",
       "      <td>543.0</td>\n",
       "    </tr>\n",
       "    <tr>\n",
       "      <th>2023-09-01 23:00:00+00:00</th>\n",
       "      <td>414.0</td>\n",
       "    </tr>\n",
       "    <tr>\n",
       "      <th>2023-09-02 00:00:00+00:00</th>\n",
       "      <td>295.0</td>\n",
       "    </tr>\n",
       "    <tr>\n",
       "      <th>2023-09-02 01:00:00+00:00</th>\n",
       "      <td>235.0</td>\n",
       "    </tr>\n",
       "  </tbody>\n",
       "</table>\n",
       "<p>226 rows × 1 columns</p>\n",
       "</div>"
      ],
      "text/plain": [
       "                            wind\n",
       "2023-08-23 16:00:00+00:00  212.0\n",
       "2023-08-23 17:00:00+00:00  232.0\n",
       "2023-08-23 18:00:00+00:00  219.0\n",
       "2023-08-23 19:00:00+00:00  228.0\n",
       "2023-08-23 20:00:00+00:00  232.0\n",
       "...                          ...\n",
       "2023-09-01 21:00:00+00:00  566.0\n",
       "2023-09-01 22:00:00+00:00  543.0\n",
       "2023-09-01 23:00:00+00:00  414.0\n",
       "2023-09-02 00:00:00+00:00  295.0\n",
       "2023-09-02 01:00:00+00:00  235.0\n",
       "\n",
       "[226 rows x 1 columns]"
      ]
     },
     "execution_count": 56,
     "metadata": {},
     "output_type": "execute_result"
    }
   ],
   "source": [
    "df"
   ]
  },
  {
   "cell_type": "code",
   "execution_count": 57,
   "metadata": {},
   "outputs": [
    {
     "name": "stderr",
     "output_type": "stream",
     "text": [
      "/Users/sebaheg/Documents/Github/powerdash/.venv_powerdash/lib/python3.11/site-packages/_plotly_utils/basevalidators.py:105: FutureWarning:\n",
      "\n",
      "The behavior of DatetimeProperties.to_pydatetime is deprecated, in a future version this will return a Series containing python datetime objects instead of an ndarray. To retain the old behavior, call `np.array` on the result\n",
      "\n"
     ]
    },
    {
     "data": {
      "application/vnd.plotly.v1+json": {
       "config": {
        "plotlyServerURL": "https://plot.ly"
       },
       "data": [
        {
         "hovertemplate": "index=%{x}<br>wind=%{y}<extra></extra>",
         "legendgroup": "",
         "line": {
          "color": "#636efa",
          "dash": "solid"
         },
         "marker": {
          "symbol": "circle"
         },
         "mode": "lines",
         "name": "",
         "orientation": "v",
         "showlegend": false,
         "type": "scatter",
         "x": [
          "2023-08-23T16:00:00+00:00",
          "2023-08-23T17:00:00+00:00",
          "2023-08-23T18:00:00+00:00",
          "2023-08-23T19:00:00+00:00",
          "2023-08-23T20:00:00+00:00",
          "2023-08-23T21:00:00+00:00",
          "2023-08-23T22:00:00+00:00",
          "2023-08-23T23:00:00+00:00",
          "2023-08-24T00:00:00+00:00",
          "2023-08-24T01:00:00+00:00",
          "2023-08-24T02:00:00+00:00",
          "2023-08-24T03:00:00+00:00",
          "2023-08-24T04:00:00+00:00",
          "2023-08-24T05:00:00+00:00",
          "2023-08-24T06:00:00+00:00",
          "2023-08-24T07:00:00+00:00",
          "2023-08-24T08:00:00+00:00",
          "2023-08-24T09:00:00+00:00",
          "2023-08-24T10:00:00+00:00",
          "2023-08-24T11:00:00+00:00",
          "2023-08-24T12:00:00+00:00",
          "2023-08-24T13:00:00+00:00",
          "2023-08-24T14:00:00+00:00",
          "2023-08-24T15:00:00+00:00",
          "2023-08-24T16:00:00+00:00",
          "2023-08-24T17:00:00+00:00",
          "2023-08-24T18:00:00+00:00",
          "2023-08-24T19:00:00+00:00",
          "2023-08-24T20:00:00+00:00",
          "2023-08-24T21:00:00+00:00",
          "2023-08-24T22:00:00+00:00",
          "2023-08-24T23:00:00+00:00",
          "2023-08-25T00:00:00+00:00",
          "2023-08-25T01:00:00+00:00",
          "2023-08-25T02:00:00+00:00",
          "2023-08-25T03:00:00+00:00",
          "2023-08-25T04:00:00+00:00",
          "2023-08-25T05:00:00+00:00",
          "2023-08-25T06:00:00+00:00",
          "2023-08-25T07:00:00+00:00",
          "2023-08-25T08:00:00+00:00",
          "2023-08-25T09:00:00+00:00",
          "2023-08-25T10:00:00+00:00",
          "2023-08-25T11:00:00+00:00",
          "2023-08-25T12:00:00+00:00",
          "2023-08-25T13:00:00+00:00",
          "2023-08-25T14:00:00+00:00",
          "2023-08-25T15:00:00+00:00",
          "2023-08-25T16:00:00+00:00",
          "2023-08-25T17:00:00+00:00",
          "2023-08-25T18:00:00+00:00",
          "2023-08-25T19:00:00+00:00",
          "2023-08-25T20:00:00+00:00",
          "2023-08-25T21:00:00+00:00",
          "2023-08-25T22:00:00+00:00",
          "2023-08-25T23:00:00+00:00",
          "2023-08-26T00:00:00+00:00",
          "2023-08-26T01:00:00+00:00",
          "2023-08-26T02:00:00+00:00",
          "2023-08-26T03:00:00+00:00",
          "2023-08-26T04:00:00+00:00",
          "2023-08-26T05:00:00+00:00",
          "2023-08-26T06:00:00+00:00",
          "2023-08-26T07:00:00+00:00",
          "2023-08-26T08:00:00+00:00",
          "2023-08-26T09:00:00+00:00",
          "2023-08-26T10:00:00+00:00",
          "2023-08-26T11:00:00+00:00",
          "2023-08-26T12:00:00+00:00",
          "2023-08-26T13:00:00+00:00",
          "2023-08-26T14:00:00+00:00",
          "2023-08-26T15:00:00+00:00",
          "2023-08-26T16:00:00+00:00",
          "2023-08-26T17:00:00+00:00",
          "2023-08-26T18:00:00+00:00",
          "2023-08-26T19:00:00+00:00",
          "2023-08-26T20:00:00+00:00",
          "2023-08-26T21:00:00+00:00",
          "2023-08-26T22:00:00+00:00",
          "2023-08-26T23:00:00+00:00",
          "2023-08-27T00:00:00+00:00",
          "2023-08-27T01:00:00+00:00",
          "2023-08-27T02:00:00+00:00",
          "2023-08-27T03:00:00+00:00",
          "2023-08-27T04:00:00+00:00",
          "2023-08-27T05:00:00+00:00",
          "2023-08-27T06:00:00+00:00",
          "2023-08-27T07:00:00+00:00",
          "2023-08-27T08:00:00+00:00",
          "2023-08-27T09:00:00+00:00",
          "2023-08-27T10:00:00+00:00",
          "2023-08-27T11:00:00+00:00",
          "2023-08-27T12:00:00+00:00",
          "2023-08-27T13:00:00+00:00",
          "2023-08-27T14:00:00+00:00",
          "2023-08-27T15:00:00+00:00",
          "2023-08-27T16:00:00+00:00",
          "2023-08-27T17:00:00+00:00",
          "2023-08-27T18:00:00+00:00",
          "2023-08-27T19:00:00+00:00",
          "2023-08-27T20:00:00+00:00",
          "2023-08-27T21:00:00+00:00",
          "2023-08-27T22:00:00+00:00",
          "2023-08-27T23:00:00+00:00",
          "2023-08-28T00:00:00+00:00",
          "2023-08-28T01:00:00+00:00",
          "2023-08-28T02:00:00+00:00",
          "2023-08-28T03:00:00+00:00",
          "2023-08-28T04:00:00+00:00",
          "2023-08-28T05:00:00+00:00",
          "2023-08-28T06:00:00+00:00",
          "2023-08-28T07:00:00+00:00",
          "2023-08-28T08:00:00+00:00",
          "2023-08-28T09:00:00+00:00",
          "2023-08-28T10:00:00+00:00",
          "2023-08-28T11:00:00+00:00",
          "2023-08-28T12:00:00+00:00",
          "2023-08-28T13:00:00+00:00",
          "2023-08-28T14:00:00+00:00",
          "2023-08-28T15:00:00+00:00",
          "2023-08-28T16:00:00+00:00",
          "2023-08-28T17:00:00+00:00",
          "2023-08-28T18:00:00+00:00",
          "2023-08-28T19:00:00+00:00",
          "2023-08-28T20:00:00+00:00",
          "2023-08-28T21:00:00+00:00",
          "2023-08-28T22:00:00+00:00",
          "2023-08-28T23:00:00+00:00",
          "2023-08-29T00:00:00+00:00",
          "2023-08-29T01:00:00+00:00",
          "2023-08-29T02:00:00+00:00",
          "2023-08-29T03:00:00+00:00",
          "2023-08-29T04:00:00+00:00",
          "2023-08-29T05:00:00+00:00",
          "2023-08-29T06:00:00+00:00",
          "2023-08-29T07:00:00+00:00",
          "2023-08-29T08:00:00+00:00",
          "2023-08-29T09:00:00+00:00",
          "2023-08-29T10:00:00+00:00",
          "2023-08-29T11:00:00+00:00",
          "2023-08-29T12:00:00+00:00",
          "2023-08-29T13:00:00+00:00",
          "2023-08-29T14:00:00+00:00",
          "2023-08-29T15:00:00+00:00",
          "2023-08-29T16:00:00+00:00",
          "2023-08-29T17:00:00+00:00",
          "2023-08-29T18:00:00+00:00",
          "2023-08-29T19:00:00+00:00",
          "2023-08-29T20:00:00+00:00",
          "2023-08-29T21:00:00+00:00",
          "2023-08-29T22:00:00+00:00",
          "2023-08-29T23:00:00+00:00",
          "2023-08-30T00:00:00+00:00",
          "2023-08-30T01:00:00+00:00",
          "2023-08-30T02:00:00+00:00",
          "2023-08-30T03:00:00+00:00",
          "2023-08-30T04:00:00+00:00",
          "2023-08-30T05:00:00+00:00",
          "2023-08-30T06:00:00+00:00",
          "2023-08-30T07:00:00+00:00",
          "2023-08-30T08:00:00+00:00",
          "2023-08-30T09:00:00+00:00",
          "2023-08-30T10:00:00+00:00",
          "2023-08-30T11:00:00+00:00",
          "2023-08-30T12:00:00+00:00",
          "2023-08-30T13:00:00+00:00",
          "2023-08-30T14:00:00+00:00",
          "2023-08-30T15:00:00+00:00",
          "2023-08-30T16:00:00+00:00",
          "2023-08-30T17:00:00+00:00",
          "2023-08-30T18:00:00+00:00",
          "2023-08-30T19:00:00+00:00",
          "2023-08-30T20:00:00+00:00",
          "2023-08-30T21:00:00+00:00",
          "2023-08-30T22:00:00+00:00",
          "2023-08-30T23:00:00+00:00",
          "2023-08-31T00:00:00+00:00",
          "2023-08-31T01:00:00+00:00",
          "2023-08-31T02:00:00+00:00",
          "2023-08-31T03:00:00+00:00",
          "2023-08-31T04:00:00+00:00",
          "2023-08-31T05:00:00+00:00",
          "2023-08-31T06:00:00+00:00",
          "2023-08-31T07:00:00+00:00",
          "2023-08-31T08:00:00+00:00",
          "2023-08-31T09:00:00+00:00",
          "2023-08-31T10:00:00+00:00",
          "2023-08-31T11:00:00+00:00",
          "2023-08-31T12:00:00+00:00",
          "2023-08-31T13:00:00+00:00",
          "2023-08-31T14:00:00+00:00",
          "2023-08-31T15:00:00+00:00",
          "2023-08-31T16:00:00+00:00",
          "2023-08-31T17:00:00+00:00",
          "2023-08-31T18:00:00+00:00",
          "2023-08-31T19:00:00+00:00",
          "2023-08-31T20:00:00+00:00",
          "2023-08-31T21:00:00+00:00",
          "2023-08-31T22:00:00+00:00",
          "2023-08-31T23:00:00+00:00",
          "2023-09-01T00:00:00+00:00",
          "2023-09-01T01:00:00+00:00",
          "2023-09-01T02:00:00+00:00",
          "2023-09-01T03:00:00+00:00",
          "2023-09-01T04:00:00+00:00",
          "2023-09-01T05:00:00+00:00",
          "2023-09-01T06:00:00+00:00",
          "2023-09-01T07:00:00+00:00",
          "2023-09-01T08:00:00+00:00",
          "2023-09-01T09:00:00+00:00",
          "2023-09-01T10:00:00+00:00",
          "2023-09-01T11:00:00+00:00",
          "2023-09-01T12:00:00+00:00",
          "2023-09-01T13:00:00+00:00",
          "2023-09-01T14:00:00+00:00",
          "2023-09-01T15:00:00+00:00",
          "2023-09-01T16:00:00+00:00",
          "2023-09-01T17:00:00+00:00",
          "2023-09-01T18:00:00+00:00",
          "2023-09-01T19:00:00+00:00",
          "2023-09-01T20:00:00+00:00",
          "2023-09-01T21:00:00+00:00",
          "2023-09-01T22:00:00+00:00",
          "2023-09-01T23:00:00+00:00",
          "2023-09-02T00:00:00+00:00",
          "2023-09-02T01:00:00+00:00"
         ],
         "xaxis": "x",
         "y": [
          212,
          232,
          219,
          228,
          232,
          207,
          197,
          202,
          171,
          154,
          158,
          134,
          80,
          72,
          67,
          70,
          61,
          52,
          48,
          51,
          49,
          57,
          62,
          40,
          40,
          44,
          79,
          140,
          232,
          353,
          399,
          430,
          521,
          594,
          658,
          591,
          633,
          562,
          470,
          511,
          503,
          427,
          271,
          261,
          295,
          346,
          219,
          137,
          107,
          53,
          36,
          42,
          55,
          234,
          162,
          159,
          324,
          347,
          452,
          507,
          533,
          484,
          547,
          709,
          746,
          836,
          925,
          743,
          822,
          783,
          818,
          904,
          791,
          632,
          415,
          270,
          328,
          247,
          173,
          127,
          92,
          67,
          74,
          74,
          80,
          91,
          144,
          154,
          178,
          246,
          268,
          252,
          195,
          238,
          288,
          360,
          394,
          304,
          277,
          183,
          143,
          205,
          333,
          348,
          327,
          377,
          460,
          417,
          340,
          362,
          375,
          264,
          207,
          222,
          270,
          345,
          344,
          243,
          164,
          142,
          127,
          95,
          70,
          86,
          96,
          93,
          108,
          120,
          102,
          89,
          77,
          82,
          121,
          120,
          88,
          67,
          40,
          34,
          35,
          35,
          35,
          36,
          38,
          35,
          35,
          36,
          35,
          36,
          37,
          39,
          53,
          50,
          40,
          38,
          39,
          44,
          48,
          40,
          36,
          36,
          45,
          56,
          52,
          47,
          50,
          49,
          50,
          72,
          85,
          100,
          143,
          190,
          218,
          233,
          175,
          125,
          165,
          124,
          106,
          125,
          164,
          232,
          287,
          238,
          219,
          232,
          259,
          330,
          242,
          183,
          170,
          196,
          237,
          224,
          309,
          329,
          478,
          536,
          485,
          559,
          691,
          702,
          672,
          745,
          716,
          510,
          288,
          226,
          226,
          259,
          314,
          340,
          374,
          387,
          362,
          330,
          315,
          350,
          403,
          496,
          559,
          566,
          543,
          414,
          295,
          235
         ],
         "yaxis": "y"
        }
       ],
       "layout": {
        "legend": {
         "tracegroupgap": 0
        },
        "template": {
         "data": {
          "bar": [
           {
            "error_x": {
             "color": "#2a3f5f"
            },
            "error_y": {
             "color": "#2a3f5f"
            },
            "marker": {
             "line": {
              "color": "#E5ECF6",
              "width": 0.5
             },
             "pattern": {
              "fillmode": "overlay",
              "size": 10,
              "solidity": 0.2
             }
            },
            "type": "bar"
           }
          ],
          "barpolar": [
           {
            "marker": {
             "line": {
              "color": "#E5ECF6",
              "width": 0.5
             },
             "pattern": {
              "fillmode": "overlay",
              "size": 10,
              "solidity": 0.2
             }
            },
            "type": "barpolar"
           }
          ],
          "carpet": [
           {
            "aaxis": {
             "endlinecolor": "#2a3f5f",
             "gridcolor": "white",
             "linecolor": "white",
             "minorgridcolor": "white",
             "startlinecolor": "#2a3f5f"
            },
            "baxis": {
             "endlinecolor": "#2a3f5f",
             "gridcolor": "white",
             "linecolor": "white",
             "minorgridcolor": "white",
             "startlinecolor": "#2a3f5f"
            },
            "type": "carpet"
           }
          ],
          "choropleth": [
           {
            "colorbar": {
             "outlinewidth": 0,
             "ticks": ""
            },
            "type": "choropleth"
           }
          ],
          "contour": [
           {
            "colorbar": {
             "outlinewidth": 0,
             "ticks": ""
            },
            "colorscale": [
             [
              0,
              "#0d0887"
             ],
             [
              0.1111111111111111,
              "#46039f"
             ],
             [
              0.2222222222222222,
              "#7201a8"
             ],
             [
              0.3333333333333333,
              "#9c179e"
             ],
             [
              0.4444444444444444,
              "#bd3786"
             ],
             [
              0.5555555555555556,
              "#d8576b"
             ],
             [
              0.6666666666666666,
              "#ed7953"
             ],
             [
              0.7777777777777778,
              "#fb9f3a"
             ],
             [
              0.8888888888888888,
              "#fdca26"
             ],
             [
              1,
              "#f0f921"
             ]
            ],
            "type": "contour"
           }
          ],
          "contourcarpet": [
           {
            "colorbar": {
             "outlinewidth": 0,
             "ticks": ""
            },
            "type": "contourcarpet"
           }
          ],
          "heatmap": [
           {
            "colorbar": {
             "outlinewidth": 0,
             "ticks": ""
            },
            "colorscale": [
             [
              0,
              "#0d0887"
             ],
             [
              0.1111111111111111,
              "#46039f"
             ],
             [
              0.2222222222222222,
              "#7201a8"
             ],
             [
              0.3333333333333333,
              "#9c179e"
             ],
             [
              0.4444444444444444,
              "#bd3786"
             ],
             [
              0.5555555555555556,
              "#d8576b"
             ],
             [
              0.6666666666666666,
              "#ed7953"
             ],
             [
              0.7777777777777778,
              "#fb9f3a"
             ],
             [
              0.8888888888888888,
              "#fdca26"
             ],
             [
              1,
              "#f0f921"
             ]
            ],
            "type": "heatmap"
           }
          ],
          "heatmapgl": [
           {
            "colorbar": {
             "outlinewidth": 0,
             "ticks": ""
            },
            "colorscale": [
             [
              0,
              "#0d0887"
             ],
             [
              0.1111111111111111,
              "#46039f"
             ],
             [
              0.2222222222222222,
              "#7201a8"
             ],
             [
              0.3333333333333333,
              "#9c179e"
             ],
             [
              0.4444444444444444,
              "#bd3786"
             ],
             [
              0.5555555555555556,
              "#d8576b"
             ],
             [
              0.6666666666666666,
              "#ed7953"
             ],
             [
              0.7777777777777778,
              "#fb9f3a"
             ],
             [
              0.8888888888888888,
              "#fdca26"
             ],
             [
              1,
              "#f0f921"
             ]
            ],
            "type": "heatmapgl"
           }
          ],
          "histogram": [
           {
            "marker": {
             "pattern": {
              "fillmode": "overlay",
              "size": 10,
              "solidity": 0.2
             }
            },
            "type": "histogram"
           }
          ],
          "histogram2d": [
           {
            "colorbar": {
             "outlinewidth": 0,
             "ticks": ""
            },
            "colorscale": [
             [
              0,
              "#0d0887"
             ],
             [
              0.1111111111111111,
              "#46039f"
             ],
             [
              0.2222222222222222,
              "#7201a8"
             ],
             [
              0.3333333333333333,
              "#9c179e"
             ],
             [
              0.4444444444444444,
              "#bd3786"
             ],
             [
              0.5555555555555556,
              "#d8576b"
             ],
             [
              0.6666666666666666,
              "#ed7953"
             ],
             [
              0.7777777777777778,
              "#fb9f3a"
             ],
             [
              0.8888888888888888,
              "#fdca26"
             ],
             [
              1,
              "#f0f921"
             ]
            ],
            "type": "histogram2d"
           }
          ],
          "histogram2dcontour": [
           {
            "colorbar": {
             "outlinewidth": 0,
             "ticks": ""
            },
            "colorscale": [
             [
              0,
              "#0d0887"
             ],
             [
              0.1111111111111111,
              "#46039f"
             ],
             [
              0.2222222222222222,
              "#7201a8"
             ],
             [
              0.3333333333333333,
              "#9c179e"
             ],
             [
              0.4444444444444444,
              "#bd3786"
             ],
             [
              0.5555555555555556,
              "#d8576b"
             ],
             [
              0.6666666666666666,
              "#ed7953"
             ],
             [
              0.7777777777777778,
              "#fb9f3a"
             ],
             [
              0.8888888888888888,
              "#fdca26"
             ],
             [
              1,
              "#f0f921"
             ]
            ],
            "type": "histogram2dcontour"
           }
          ],
          "mesh3d": [
           {
            "colorbar": {
             "outlinewidth": 0,
             "ticks": ""
            },
            "type": "mesh3d"
           }
          ],
          "parcoords": [
           {
            "line": {
             "colorbar": {
              "outlinewidth": 0,
              "ticks": ""
             }
            },
            "type": "parcoords"
           }
          ],
          "pie": [
           {
            "automargin": true,
            "type": "pie"
           }
          ],
          "scatter": [
           {
            "fillpattern": {
             "fillmode": "overlay",
             "size": 10,
             "solidity": 0.2
            },
            "type": "scatter"
           }
          ],
          "scatter3d": [
           {
            "line": {
             "colorbar": {
              "outlinewidth": 0,
              "ticks": ""
             }
            },
            "marker": {
             "colorbar": {
              "outlinewidth": 0,
              "ticks": ""
             }
            },
            "type": "scatter3d"
           }
          ],
          "scattercarpet": [
           {
            "marker": {
             "colorbar": {
              "outlinewidth": 0,
              "ticks": ""
             }
            },
            "type": "scattercarpet"
           }
          ],
          "scattergeo": [
           {
            "marker": {
             "colorbar": {
              "outlinewidth": 0,
              "ticks": ""
             }
            },
            "type": "scattergeo"
           }
          ],
          "scattergl": [
           {
            "marker": {
             "colorbar": {
              "outlinewidth": 0,
              "ticks": ""
             }
            },
            "type": "scattergl"
           }
          ],
          "scattermapbox": [
           {
            "marker": {
             "colorbar": {
              "outlinewidth": 0,
              "ticks": ""
             }
            },
            "type": "scattermapbox"
           }
          ],
          "scatterpolar": [
           {
            "marker": {
             "colorbar": {
              "outlinewidth": 0,
              "ticks": ""
             }
            },
            "type": "scatterpolar"
           }
          ],
          "scatterpolargl": [
           {
            "marker": {
             "colorbar": {
              "outlinewidth": 0,
              "ticks": ""
             }
            },
            "type": "scatterpolargl"
           }
          ],
          "scatterternary": [
           {
            "marker": {
             "colorbar": {
              "outlinewidth": 0,
              "ticks": ""
             }
            },
            "type": "scatterternary"
           }
          ],
          "surface": [
           {
            "colorbar": {
             "outlinewidth": 0,
             "ticks": ""
            },
            "colorscale": [
             [
              0,
              "#0d0887"
             ],
             [
              0.1111111111111111,
              "#46039f"
             ],
             [
              0.2222222222222222,
              "#7201a8"
             ],
             [
              0.3333333333333333,
              "#9c179e"
             ],
             [
              0.4444444444444444,
              "#bd3786"
             ],
             [
              0.5555555555555556,
              "#d8576b"
             ],
             [
              0.6666666666666666,
              "#ed7953"
             ],
             [
              0.7777777777777778,
              "#fb9f3a"
             ],
             [
              0.8888888888888888,
              "#fdca26"
             ],
             [
              1,
              "#f0f921"
             ]
            ],
            "type": "surface"
           }
          ],
          "table": [
           {
            "cells": {
             "fill": {
              "color": "#EBF0F8"
             },
             "line": {
              "color": "white"
             }
            },
            "header": {
             "fill": {
              "color": "#C8D4E3"
             },
             "line": {
              "color": "white"
             }
            },
            "type": "table"
           }
          ]
         },
         "layout": {
          "annotationdefaults": {
           "arrowcolor": "#2a3f5f",
           "arrowhead": 0,
           "arrowwidth": 1
          },
          "autotypenumbers": "strict",
          "coloraxis": {
           "colorbar": {
            "outlinewidth": 0,
            "ticks": ""
           }
          },
          "colorscale": {
           "diverging": [
            [
             0,
             "#8e0152"
            ],
            [
             0.1,
             "#c51b7d"
            ],
            [
             0.2,
             "#de77ae"
            ],
            [
             0.3,
             "#f1b6da"
            ],
            [
             0.4,
             "#fde0ef"
            ],
            [
             0.5,
             "#f7f7f7"
            ],
            [
             0.6,
             "#e6f5d0"
            ],
            [
             0.7,
             "#b8e186"
            ],
            [
             0.8,
             "#7fbc41"
            ],
            [
             0.9,
             "#4d9221"
            ],
            [
             1,
             "#276419"
            ]
           ],
           "sequential": [
            [
             0,
             "#0d0887"
            ],
            [
             0.1111111111111111,
             "#46039f"
            ],
            [
             0.2222222222222222,
             "#7201a8"
            ],
            [
             0.3333333333333333,
             "#9c179e"
            ],
            [
             0.4444444444444444,
             "#bd3786"
            ],
            [
             0.5555555555555556,
             "#d8576b"
            ],
            [
             0.6666666666666666,
             "#ed7953"
            ],
            [
             0.7777777777777778,
             "#fb9f3a"
            ],
            [
             0.8888888888888888,
             "#fdca26"
            ],
            [
             1,
             "#f0f921"
            ]
           ],
           "sequentialminus": [
            [
             0,
             "#0d0887"
            ],
            [
             0.1111111111111111,
             "#46039f"
            ],
            [
             0.2222222222222222,
             "#7201a8"
            ],
            [
             0.3333333333333333,
             "#9c179e"
            ],
            [
             0.4444444444444444,
             "#bd3786"
            ],
            [
             0.5555555555555556,
             "#d8576b"
            ],
            [
             0.6666666666666666,
             "#ed7953"
            ],
            [
             0.7777777777777778,
             "#fb9f3a"
            ],
            [
             0.8888888888888888,
             "#fdca26"
            ],
            [
             1,
             "#f0f921"
            ]
           ]
          },
          "colorway": [
           "#636efa",
           "#EF553B",
           "#00cc96",
           "#ab63fa",
           "#FFA15A",
           "#19d3f3",
           "#FF6692",
           "#B6E880",
           "#FF97FF",
           "#FECB52"
          ],
          "font": {
           "color": "#2a3f5f"
          },
          "geo": {
           "bgcolor": "white",
           "lakecolor": "white",
           "landcolor": "#E5ECF6",
           "showlakes": true,
           "showland": true,
           "subunitcolor": "white"
          },
          "hoverlabel": {
           "align": "left"
          },
          "hovermode": "closest",
          "mapbox": {
           "style": "light"
          },
          "paper_bgcolor": "white",
          "plot_bgcolor": "#E5ECF6",
          "polar": {
           "angularaxis": {
            "gridcolor": "white",
            "linecolor": "white",
            "ticks": ""
           },
           "bgcolor": "#E5ECF6",
           "radialaxis": {
            "gridcolor": "white",
            "linecolor": "white",
            "ticks": ""
           }
          },
          "scene": {
           "xaxis": {
            "backgroundcolor": "#E5ECF6",
            "gridcolor": "white",
            "gridwidth": 2,
            "linecolor": "white",
            "showbackground": true,
            "ticks": "",
            "zerolinecolor": "white"
           },
           "yaxis": {
            "backgroundcolor": "#E5ECF6",
            "gridcolor": "white",
            "gridwidth": 2,
            "linecolor": "white",
            "showbackground": true,
            "ticks": "",
            "zerolinecolor": "white"
           },
           "zaxis": {
            "backgroundcolor": "#E5ECF6",
            "gridcolor": "white",
            "gridwidth": 2,
            "linecolor": "white",
            "showbackground": true,
            "ticks": "",
            "zerolinecolor": "white"
           }
          },
          "shapedefaults": {
           "line": {
            "color": "#2a3f5f"
           }
          },
          "ternary": {
           "aaxis": {
            "gridcolor": "white",
            "linecolor": "white",
            "ticks": ""
           },
           "baxis": {
            "gridcolor": "white",
            "linecolor": "white",
            "ticks": ""
           },
           "bgcolor": "#E5ECF6",
           "caxis": {
            "gridcolor": "white",
            "linecolor": "white",
            "ticks": ""
           }
          },
          "title": {
           "x": 0.05
          },
          "xaxis": {
           "automargin": true,
           "gridcolor": "white",
           "linecolor": "white",
           "ticks": "",
           "title": {
            "standoff": 15
           },
           "zerolinecolor": "white",
           "zerolinewidth": 2
          },
          "yaxis": {
           "automargin": true,
           "gridcolor": "white",
           "linecolor": "white",
           "ticks": "",
           "title": {
            "standoff": 15
           },
           "zerolinecolor": "white",
           "zerolinewidth": 2
          }
         }
        },
        "title": {
         "text": "Solar Power [MW]"
        },
        "xaxis": {
         "anchor": "y",
         "domain": [
          0,
          1
         ],
         "title": {
          "text": "index"
         }
        },
        "yaxis": {
         "anchor": "x",
         "domain": [
          0,
          1
         ],
         "title": {
          "text": "wind"
         }
        }
       }
      }
     },
     "metadata": {},
     "output_type": "display_data"
    }
   ],
   "source": [
    "fig = px.line(df.reset_index(), x=\"index\", y=\"wind\", title='Solar Power [MW]')\n",
    "fig.show()"
   ]
  },
  {
   "cell_type": "code",
   "execution_count": 8,
   "metadata": {},
   "outputs": [],
   "source": [
    "import matplotlib"
   ]
  },
  {
   "cell_type": "code",
   "execution_count": null,
   "metadata": {},
   "outputs": [],
   "source": []
  }
 ],
 "metadata": {
  "kernelspec": {
   "display_name": ".venv_powerdash",
   "language": "python",
   "name": "python3"
  },
  "language_info": {
   "codemirror_mode": {
    "name": "ipython",
    "version": 3
   },
   "file_extension": ".py",
   "mimetype": "text/x-python",
   "name": "python",
   "nbconvert_exporter": "python",
   "pygments_lexer": "ipython3",
   "version": "3.11.4"
  },
  "orig_nbformat": 4
 },
 "nbformat": 4,
 "nbformat_minor": 2
}
